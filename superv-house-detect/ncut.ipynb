{
 "cells": [
  {
   "cell_type": "code",
   "execution_count": 1,
   "metadata": {
    "collapsed": true
   },
   "outputs": [],
   "source": [
    "import cv2\n",
    "import numpy as np\n",
    "from numpy.linalg import eig, eigh\n",
    "from matplotlib import pyplot as plt\n",
    "from scipy.spatial.distance import cdist\n",
    "from scipy.linalg import eigh as sci_eig\n",
    "%matplotlib inline"
   ]
  },
  {
   "cell_type": "code",
   "execution_count": 20,
   "metadata": {
    "collapsed": true
   },
   "outputs": [],
   "source": [
    "# img = cv2.imread('../house-detect/resources/lena.png')\n",
    "\n",
    "img = np.zeros(shape=(5, 5, 3), dtype=\"uint8\")\n",
    "for i in range(img.shape[0]):\n",
    "    for j in range(img.shape[1]):\n",
    "        if i <= j:\n",
    "            img[i][j] = [255, 255, 255]"
   ]
  },
  {
   "cell_type": "code",
   "execution_count": 21,
   "metadata": {
    "collapsed": false
   },
   "outputs": [
    {
     "data": {
      "text/plain": [
       "<matplotlib.image.AxesImage at 0x7f3f5ad53390>"
      ]
     },
     "execution_count": 21,
     "metadata": {},
     "output_type": "execute_result"
    },
    {
     "data": {
      "image/png": "[encoded data removed]",
      "text/plain": [
       "<matplotlib.figure.Figure at 0x7f3f54e4e048>"
      ]
     },
     "metadata": {},
     "output_type": "display_data"
    }
   ],
   "source": [
    "plt.imshow(img)"
   ]
  },
  {
   "cell_type": "code",
   "execution_count": 22,
   "metadata": {
    "collapsed": false
   },
   "outputs": [
    {
     "name": "stdout",
     "output_type": "stream",
     "text": [
      "[[ 0.          0.          0.          0.          0.          1.73205081\n",
      "   0.          0.          0.          0.          1.73205081  1.73205081\n",
      "   0.          0.          0.          1.73205081  1.73205081  1.73205081\n",
      "   0.          0.          1.73205081  1.73205081  1.73205081  1.73205081\n",
      "   0.        ]\n",
      " [ 0.          0.          0.          0.          0.          1.73205081\n",
      "   0.          0.          0.          0.          1.73205081  1.73205081\n",
      "   0.          0.          0.          1.73205081  1.73205081  1.73205081\n",
      "   0.          0.          1.73205081  1.73205081  1.73205081  1.73205081\n",
      "   0.        ]\n",
      " [ 0.          0.          0.          0.          0.          1.73205081\n",
      "   0.          0.          0.          0.          1.73205081  1.73205081\n",
      "   0.          0.          0.          1.73205081  1.73205081  1.73205081\n",
      "   0.          0.          1.73205081  1.73205081  1.73205081  1.73205081\n",
      "   0.        ]\n",
      " [ 0.          0.          0.          0.          0.          1.73205081\n",
      "   0.          0.          0.          0.          1.73205081  1.73205081\n",
      "   0.          0.          0.          1.73205081  1.73205081  1.73205081\n",
      "   0.          0.          1.73205081  1.73205081  1.73205081  1.73205081\n",
      "   0.        ]\n",
      " [ 0.          0.          0.          0.          0.          1.73205081\n",
      "   0.          0.          0.          0.          1.73205081  1.73205081\n",
      "   0.          0.          0.          1.73205081  1.73205081  1.73205081\n",
      "   0.          0.          1.73205081  1.73205081  1.73205081  1.73205081\n",
      "   0.        ]\n",
      " [ 1.73205081  1.73205081  1.73205081  1.73205081  1.73205081  0.\n",
      "   1.73205081  1.73205081  1.73205081  1.73205081  0.          0.\n",
      "   1.73205081  1.73205081  1.73205081  0.          0.          0.\n",
      "   1.73205081  1.73205081  0.          0.          0.          0.\n",
      "   1.73205081]\n",
      " [ 0.          0.          0.          0.          0.          1.73205081\n",
      "   0.          0.          0.          0.          1.73205081  1.73205081\n",
      "   0.          0.          0.          1.73205081  1.73205081  1.73205081\n",
      "   0.          0.          1.73205081  1.73205081  1.73205081  1.73205081\n",
      "   0.        ]\n",
      " [ 0.          0.          0.          0.          0.          1.73205081\n",
      "   0.          0.          0.          0.          1.73205081  1.73205081\n",
      "   0.          0.          0.          1.73205081  1.73205081  1.73205081\n",
      "   0.          0.          1.73205081  1.73205081  1.73205081  1.73205081\n",
      "   0.        ]\n",
      " [ 0.          0.          0.          0.          0.          1.73205081\n",
      "   0.          0.          0.          0.          1.73205081  1.73205081\n",
      "   0.          0.          0.          1.73205081  1.73205081  1.73205081\n",
      "   0.          0.          1.73205081  1.73205081  1.73205081  1.73205081\n",
      "   0.        ]\n",
      " [ 0.          0.          0.          0.          0.          1.73205081\n",
      "   0.          0.          0.          0.          1.73205081  1.73205081\n",
      "   0.          0.          0.          1.73205081  1.73205081  1.73205081\n",
      "   0.          0.          1.73205081  1.73205081  1.73205081  1.73205081\n",
      "   0.        ]\n",
      " [ 1.73205081  1.73205081  1.73205081  1.73205081  1.73205081  0.\n",
      "   1.73205081  1.73205081  1.73205081  1.73205081  0.          0.\n",
      "   1.73205081  1.73205081  1.73205081  0.          0.          0.\n",
      "   1.73205081  1.73205081  0.          0.          0.          0.\n",
      "   1.73205081]\n",
      " [ 1.73205081  1.73205081  1.73205081  1.73205081  1.73205081  0.\n",
      "   1.73205081  1.73205081  1.73205081  1.73205081  0.          0.\n",
      "   1.73205081  1.73205081  1.73205081  0.          0.          0.\n",
      "   1.73205081  1.73205081  0.          0.          0.          0.\n",
      "   1.73205081]\n",
      " [ 0.          0.          0.          0.          0.          1.73205081\n",
      "   0.          0.          0.          0.          1.73205081  1.73205081\n",
      "   0.          0.          0.          1.73205081  1.73205081  1.73205081\n",
      "   0.          0.          1.73205081  1.73205081  1.73205081  1.73205081\n",
      "   0.        ]\n",
      " [ 0.          0.          0.          0.          0.          1.73205081\n",
      "   0.          0.          0.          0.          1.73205081  1.73205081\n",
      "   0.          0.          0.          1.73205081  1.73205081  1.73205081\n",
      "   0.          0.          1.73205081  1.73205081  1.73205081  1.73205081\n",
      "   0.        ]\n",
      " [ 0.          0.          0.          0.          0.          1.73205081\n",
      "   0.          0.          0.          0.          1.73205081  1.73205081\n",
      "   0.          0.          0.          1.73205081  1.73205081  1.73205081\n",
      "   0.          0.          1.73205081  1.73205081  1.73205081  1.73205081\n",
      "   0.        ]\n",
      " [ 1.73205081  1.73205081  1.73205081  1.73205081  1.73205081  0.\n",
      "   1.73205081  1.73205081  1.73205081  1.73205081  0.          0.\n",
      "   1.73205081  1.73205081  1.73205081  0.          0.          0.\n",
      "   1.73205081  1.73205081  0.          0.          0.          0.\n",
      "   1.73205081]\n",
      " [ 1.73205081  1.73205081  1.73205081  1.73205081  1.73205081  0.\n",
      "   1.73205081  1.73205081  1.73205081  1.73205081  0.          0.\n",
      "   1.73205081  1.73205081  1.73205081  0.          0.          0.\n",
      "   1.73205081  1.73205081  0.          0.          0.          0.\n",
      "   1.73205081]\n",
      " [ 1.73205081  1.73205081  1.73205081  1.73205081  1.73205081  0.\n",
      "   1.73205081  1.73205081  1.73205081  1.73205081  0.          0.\n",
      "   1.73205081  1.73205081  1.73205081  0.          0.          0.\n",
      "   1.73205081  1.73205081  0.          0.          0.          0.\n",
      "   1.73205081]\n",
      " [ 0.          0.          0.          0.          0.          1.73205081\n",
      "   0.          0.          0.          0.          1.73205081  1.73205081\n",
      "   0.          0.          0.          1.73205081  1.73205081  1.73205081\n",
      "   0.          0.          1.73205081  1.73205081  1.73205081  1.73205081\n",
      "   0.        ]\n",
      " [ 0.          0.          0.          0.          0.          1.73205081\n",
      "   0.          0.          0.          0.          1.73205081  1.73205081\n",
      "   0.          0.          0.          1.73205081  1.73205081  1.73205081\n",
      "   0.          0.          1.73205081  1.73205081  1.73205081  1.73205081\n",
      "   0.        ]\n",
      " [ 1.73205081  1.73205081  1.73205081  1.73205081  1.73205081  0.\n",
      "   1.73205081  1.73205081  1.73205081  1.73205081  0.          0.\n",
      "   1.73205081  1.73205081  1.73205081  0.          0.          0.\n",
      "   1.73205081  1.73205081  0.          0.          0.          0.\n",
      "   1.73205081]\n",
      " [ 1.73205081  1.73205081  1.73205081  1.73205081  1.73205081  0.\n",
      "   1.73205081  1.73205081  1.73205081  1.73205081  0.          0.\n",
      "   1.73205081  1.73205081  1.73205081  0.          0.          0.\n",
      "   1.73205081  1.73205081  0.          0.          0.          0.\n",
      "   1.73205081]\n",
      " [ 1.73205081  1.73205081  1.73205081  1.73205081  1.73205081  0.\n",
      "   1.73205081  1.73205081  1.73205081  1.73205081  0.          0.\n",
      "   1.73205081  1.73205081  1.73205081  0.          0.          0.\n",
      "   1.73205081  1.73205081  0.          0.          0.          0.\n",
      "   1.73205081]\n",
      " [ 1.73205081  1.73205081  1.73205081  1.73205081  1.73205081  0.\n",
      "   1.73205081  1.73205081  1.73205081  1.73205081  0.          0.\n",
      "   1.73205081  1.73205081  1.73205081  0.          0.          0.\n",
      "   1.73205081  1.73205081  0.          0.          0.          0.\n",
      "   1.73205081]\n",
      " [ 0.          0.          0.          0.          0.          1.73205081\n",
      "   0.          0.          0.          0.          1.73205081  1.73205081\n",
      "   0.          0.          0.          1.73205081  1.73205081  1.73205081\n",
      "   0.          0.          1.73205081  1.73205081  1.73205081  1.73205081\n",
      "   0.        ]]\n",
      "[[ 1.04978707 -1.          0.          0.          0.         -0.04978707\n",
      "   0.          0.          0.          0.          0.          0.          0.\n",
      "   0.          0.          0.          0.          0.          0.          0.\n",
      "   0.          0.          0.          0.          0.        ]\n",
      " [-1.          3.         -1.          0.          0.          0.         -1.\n",
      "   0.          0.          0.          0.          0.          0.          0.\n",
      "   0.          0.          0.          0.          0.          0.          0.\n",
      "   0.          0.          0.          0.        ]\n",
      " [ 0.         -1.          3.         -1.          0.          0.          0.\n",
      "  -1.          0.          0.          0.          0.          0.          0.\n",
      "   0.          0.          0.          0.          0.          0.          0.\n",
      "   0.          0.          0.          0.        ]\n",
      " [ 0.          0.         -1.          3.         -1.          0.          0.\n",
      "   0.         -1.          0.          0.          0.          0.          0.\n",
      "   0.          0.          0.          0.          0.          0.          0.\n",
      "   0.          0.          0.          0.        ]\n",
      " [ 0.          0.          0.         -1.          2.          0.          0.\n",
      "   0.          0.         -1.          0.          0.          0.          0.\n",
      "   0.          0.          0.          0.          0.          0.          0.\n",
      "   0.          0.          0.          0.        ]\n",
      " [-0.04978707  0.          0.          0.          0.          1.09957414\n",
      "  -0.04978707  0.          0.          0.         -1.          0.          0.\n",
      "   0.          0.          0.          0.          0.          0.          0.\n",
      "   0.          0.          0.          0.          0.        ]\n",
      " [ 0.         -1.          0.          0.          0.         -0.04978707\n",
      "   2.09957414 -1.          0.          0.          0.         -0.04978707\n",
      "   0.          0.          0.          0.          0.          0.          0.\n",
      "   0.          0.          0.          0.          0.          0.        ]\n",
      " [ 0.          0.         -1.          0.          0.          0.         -1.\n",
      "   4.         -1.          0.          0.          0.         -1.          0.\n",
      "   0.          0.          0.          0.          0.          0.          0.\n",
      "   0.          0.          0.          0.        ]\n",
      " [ 0.          0.          0.         -1.          0.          0.          0.\n",
      "  -1.          4.         -1.          0.          0.          0.         -1.\n",
      "   0.          0.          0.          0.          0.          0.          0.\n",
      "   0.          0.          0.          0.        ]\n",
      " [ 0.          0.          0.          0.         -1.          0.          0.\n",
      "   0.         -1.          3.          0.          0.          0.          0.\n",
      "  -1.          0.          0.          0.          0.          0.          0.\n",
      "   0.          0.          0.          0.        ]\n",
      " [ 0.          0.          0.          0.          0.         -1.          0.\n",
      "   0.          0.          0.          3.         -1.          0.          0.\n",
      "   0.         -1.          0.          0.          0.          0.          0.\n",
      "   0.          0.          0.          0.        ]\n",
      " [ 0.          0.          0.          0.          0.          0.\n",
      "  -0.04978707  0.          0.          0.         -1.          2.09957414\n",
      "  -0.04978707  0.          0.          0.         -1.          0.          0.\n",
      "   0.          0.          0.          0.          0.          0.        ]\n",
      " [ 0.          0.          0.          0.          0.          0.          0.\n",
      "  -1.          0.          0.          0.         -0.04978707  2.09957414\n",
      "  -1.          0.          0.          0.         -0.04978707  0.          0.\n",
      "   0.          0.          0.          0.          0.        ]\n",
      " [ 0.          0.          0.          0.          0.          0.          0.\n",
      "   0.         -1.          0.          0.          0.         -1.          4.\n",
      "  -1.          0.          0.          0.         -1.          0.          0.\n",
      "   0.          0.          0.          0.        ]\n",
      " [ 0.          0.          0.          0.          0.          0.          0.\n",
      "   0.          0.         -1.          0.          0.          0.         -1.\n",
      "   3.          0.          0.          0.          0.         -1.          0.\n",
      "   0.          0.          0.          0.        ]\n",
      " [ 0.          0.          0.          0.          0.          0.          0.\n",
      "   0.          0.          0.         -1.          0.          0.          0.\n",
      "   0.          3.         -1.          0.          0.          0.         -1.\n",
      "   0.          0.          0.          0.        ]\n",
      " [ 0.          0.          0.          0.          0.          0.          0.\n",
      "   0.          0.          0.          0.         -1.          0.          0.\n",
      "   0.         -1.          4.         -1.          0.          0.          0.\n",
      "  -1.          0.          0.          0.        ]\n",
      " [ 0.          0.          0.          0.          0.          0.          0.\n",
      "   0.          0.          0.          0.          0.         -0.04978707\n",
      "   0.          0.          0.         -1.          2.09957414 -0.04978707\n",
      "   0.          0.          0.         -1.          0.          0.        ]\n",
      " [ 0.          0.          0.          0.          0.          0.          0.\n",
      "   0.          0.          0.          0.          0.          0.         -1.\n",
      "   0.          0.          0.         -0.04978707  2.09957414 -1.          0.\n",
      "   0.          0.         -0.04978707  0.        ]\n",
      " [ 0.          0.          0.          0.          0.          0.          0.\n",
      "   0.          0.          0.          0.          0.          0.          0.\n",
      "  -1.          0.          0.          0.         -1.          3.          0.\n",
      "   0.          0.          0.         -1.        ]\n",
      " [ 0.          0.          0.          0.          0.          0.          0.\n",
      "   0.          0.          0.          0.          0.          0.          0.\n",
      "   0.         -1.          0.          0.          0.          0.          2.\n",
      "  -1.          0.          0.          0.        ]\n",
      " [ 0.          0.          0.          0.          0.          0.          0.\n",
      "   0.          0.          0.          0.          0.          0.          0.\n",
      "   0.          0.         -1.          0.          0.          0.         -1.\n",
      "   3.         -1.          0.          0.        ]\n",
      " [ 0.          0.          0.          0.          0.          0.          0.\n",
      "   0.          0.          0.          0.          0.          0.          0.\n",
      "   0.          0.          0.         -1.          0.          0.          0.\n",
      "  -1.          3.         -1.          0.        ]\n",
      " [ 0.          0.          0.          0.          0.          0.          0.\n",
      "   0.          0.          0.          0.          0.          0.          0.\n",
      "   0.          0.          0.          0.         -0.04978707  0.          0.\n",
      "   0.         -1.          1.09957414 -0.04978707]\n",
      " [ 0.          0.          0.          0.          0.          0.          0.\n",
      "   0.          0.          0.          0.          0.          0.          0.\n",
      "   0.          0.          0.          0.          0.         -1.          0.\n",
      "   0.          0.         -0.04978707  1.04978707]]\n"
     ]
    },
    {
     "data": {
      "image/png": "[encoded data removed]",
      "text/plain": [
       "<matplotlib.figure.Figure at 0x7f3f5ad0db70>"
      ]
     },
     "metadata": {},
     "output_type": "display_data"
    }
   ],
   "source": [
    "img_norm = np.copy(img)\n",
    "img_norm = cv2.normalize(img, dst=img_norm, alpha=0., beta=1.,\n",
    "                         norm_type=cv2.NORM_MINMAX, dtype=cv2.CV_64F)\n",
    "\n",
    "n_pix = img.shape[0] * img.shape[1]\n",
    "height = img.shape[0]\n",
    "width = img.shape[1]\n",
    "\n",
    "vector_img = img_norm.reshape((n_pix, img.shape[2]))\n",
    "dist_mat = cdist(vector_img, vector_img, 'euclidean')\n",
    "\n",
    "print(dist_mat)\n",
    "\n",
    "weights = np.zeros(shape=(n_pix, n_pix))\n",
    "diag = np.zeros(shape=(n_pix, n_pix))\n",
    "\n",
    "for x in range(height):\n",
    "    for y in range(width):\n",
    "        sum1 = 0.\n",
    "        idx = x * width + y\n",
    "\n",
    "        if x > 0:\n",
    "            sqr = dist_mat[idx][idx - width] ** 2\n",
    "            weights[idx][idx - width] = np.exp(-sqr)\n",
    "            sum1 += weights[idx][idx - width]\n",
    "            \n",
    "        if x < height - 1:\n",
    "            sqr = dist_mat[idx][idx + width] ** 2\n",
    "            weights[idx][idx + width] = np.exp(-sqr)\n",
    "            sum1 += weights[idx][idx + width]\n",
    "            \n",
    "        if y > 0:\n",
    "            sqr = dist_mat[idx][idx - 1] ** 2\n",
    "            weights[idx][idx - 1] = np.exp(-sqr)\n",
    "            sum1 += weights[idx][idx - 1]\n",
    "            \n",
    "        if y < width - 1:\n",
    "            sqr = dist_mat[idx][idx + 1] ** 2\n",
    "            weights[idx][idx + 1] = np.exp(-sqr)\n",
    "            sum1 += weights[idx][idx + 1]\n",
    "\n",
    "        diag[idx][idx] = sum1\n",
    "\n",
    "# print(weights)\n",
    "lap = diag - weights\n",
    "plt.imshow(lap, cmap='hot', interpolation='nearest')\n",
    "print(lap)"
   ]
  },
  {
   "cell_type": "code",
   "execution_count": 23,
   "metadata": {
    "collapsed": false
   },
   "outputs": [
    {
     "ename": "IndexError",
     "evalue": "index 1040 is out of bounds for axis 0 with size 25",
     "output_type": "error",
     "traceback": [
      "\u001b[0;31m---------------------------------------------------------------------------\u001b[0m",
      "\u001b[0;31mIndexError\u001b[0m                                Traceback (most recent call last)",
      "\u001b[0;32m<ipython-input-23-0b2e55bfd500>\u001b[0m in \u001b[0;36m<module>\u001b[0;34m()\u001b[0m\n\u001b[0;32m----> 1\u001b[0;31m \u001b[0mlap\u001b[0m\u001b[0;34m[\u001b[0m\u001b[0;36m1040\u001b[0m\u001b[0;34m]\u001b[0m\u001b[0;34m[\u001b[0m\u001b[0;36m1040\u001b[0m\u001b[0;34m]\u001b[0m\u001b[0;34m\u001b[0m\u001b[0m\n\u001b[0m",
      "\u001b[0;31mIndexError\u001b[0m: index 1040 is out of bounds for axis 0 with size 25"
     ]
    }
   ],
   "source": [
    "lap[1040][1040]"
   ]
  },
  {
   "cell_type": "code",
   "execution_count": 6,
   "metadata": {
    "collapsed": false
   },
   "outputs": [],
   "source": [
    "lambdas, vectors = sci_eig(lap)"
   ]
  },
  {
   "cell_type": "code",
   "execution_count": 7,
   "metadata": {
    "collapsed": true
   },
   "outputs": [],
   "source": [
    "idx = np.argsort(lambdas)\n",
    "lambdas = lambdas[idx]\n",
    "vectors = vectors.T[idx]"
   ]
  },
  {
   "cell_type": "code",
   "execution_count": 8,
   "metadata": {
    "collapsed": false
   },
   "outputs": [
    {
     "name": "stdout",
     "output_type": "stream",
     "text": [
      "[ -1.99433975e-16   2.79729752e-03   3.87085191e-03 ...,   7.96142075e+00\n",
      "   7.97989329e+00   7.98068092e+00]\n",
      "[[ -2.00000000e-02   2.98294726e-03  -4.05603241e-02 ...,   1.36516394e-06\n",
      "    2.95436693e-09  -3.41974563e-07]\n",
      " [ -2.00000000e-02   3.24719033e-03  -4.04286229e-02 ...,  -9.42664728e-06\n",
      "   -1.53310166e-09   2.36796089e-06]\n",
      " [ -2.00000000e-02   3.63797326e-03  -4.02258484e-02 ...,   3.13689198e-05\n",
      "   -2.69488309e-08  -7.91675269e-06]\n",
      " ..., \n",
      " [ -2.00000000e-02  -3.03672124e-03   3.98572939e-02 ...,  -4.55160769e-07\n",
      "    2.61582442e-06  -1.14963288e-07]\n",
      " [ -2.00000000e-02  -2.49211429e-03   4.00521235e-02 ...,   1.78073591e-07\n",
      "   -3.80439653e-07   4.47606678e-08]\n",
      " [ -2.00000000e-02   2.98294726e-03   4.05603241e-02 ...,  -1.36516394e-06\n",
      "    2.95436694e-09  -3.41974563e-07]]\n"
     ]
    }
   ],
   "source": [
    "print(lambdas)\n",
    "print(vectors.T)"
   ]
  },
  {
   "cell_type": "code",
   "execution_count": 14,
   "metadata": {
    "collapsed": false
   },
   "outputs": [],
   "source": [
    "dst = np.zeros(shape=(img.shape[0] * img.shape[1]), dtype='float64')\n",
    "\n",
    "# vectors = vectors.T\n",
    "for k in range(len(vectors)):\n",
    "#     if lambdas[k] > 0:\n",
    "    dst += 1. / np.sqrt(lambdas[k] + 0.0001) * vectors[k]\n",
    "        \n",
    "# print(dst.shape)\n",
    "        \n",
    "dst_ = np.zeros(shape=(img.shape[0], img.shape[1]))\n",
    "for i in range(img.shape[0]):\n",
    "    for j in range(img.shape[1]):\n",
    "        dst_[i][j] = dst[i * img.shape[1] + j]\n",
    "        \n",
    "# dst = dst.reshape((img.shape[0], img.shape[1]))"
   ]
  },
  {
   "cell_type": "code",
   "execution_count": 15,
   "metadata": {
    "collapsed": false
   },
   "outputs": [
    {
     "data": {
      "text/plain": [
       "1.0"
      ]
     },
     "execution_count": 15,
     "metadata": {},
     "output_type": "execute_result"
    }
   ],
   "source": [
    "np.linalg.norm([0.5,0.5,0.5, 0.5])"
   ]
  },
  {
   "cell_type": "code",
   "execution_count": 16,
   "metadata": {
    "collapsed": false
   },
   "outputs": [],
   "source": [
    "dst_norm = np.zeros(shape=dst.shape)\n",
    "dst_norm = cv2.normalize(dst_, dst=dst_norm, alpha=0, beta=1, norm_type=cv2.NORM_MINMAX, dtype=cv2.CV_32F)"
   ]
  },
  {
   "cell_type": "code",
   "execution_count": 17,
   "metadata": {
    "collapsed": false
   },
   "outputs": [
    {
     "data": {
      "text/plain": [
       "<matplotlib.image.AxesImage at 0x7f3f51d82588>"
      ]
     },
     "execution_count": 17,
     "metadata": {},
     "output_type": "execute_result"
    },
    {
     "data": {
      "image/png": "[encoded data removed]",
      "text/plain": [
       "<matplotlib.figure.Figure at 0x7f3f51e08908>"
      ]
     },
     "metadata": {},
     "output_type": "display_data"
    }
   ],
   "source": [
    "plt.imshow(dst_norm, interpolation='none', cmap='hot')"
   ]
  },
  {
   "cell_type": "code",
   "execution_count": 18,
   "metadata": {
    "collapsed": false
   },
   "outputs": [
    {
     "name": "stdout",
     "output_type": "stream",
     "text": [
      "[[ 0.68845522  0.23388299  0.         ...,  0.70447779  0.64180177\n",
      "   0.95399576]\n",
      " [ 0.46085572  0.27441788  0.22184901 ...,  0.71559811  0.7388134\n",
      "   0.89844739]\n",
      " [ 0.4590838   0.57806957  0.41760433 ...,  0.77073604  0.8113752\n",
      "   0.82326669]\n",
      " ..., \n",
      " [ 0.56222254  0.51366562  0.6953665  ...,  0.53293687  0.64746124\n",
      "   0.67494112]\n",
      " [ 0.54013139  0.51618117  0.67386359 ...,  0.57797825  0.4952423\n",
      "   0.65657854]\n",
      " [ 0.60326326  0.5199213   0.51581377 ...,  0.46809655  0.58656716\n",
      "   0.9163965 ]]\n"
     ]
    }
   ],
   "source": [
    "print(dst_norm)"
   ]
  },
  {
   "cell_type": "code",
   "execution_count": null,
   "metadata": {
    "collapsed": true
   },
   "outputs": [],
   "source": []
  }
 ],
 "metadata": {
  "kernelspec": {
   "display_name": "Python 3",
   "language": "python",
   "name": "python3"
  },
  "language_info": {
   "codemirror_mode": {
    "name": "ipython",
    "version": 3
   },
   "file_extension": ".py",
   "mimetype": "text/x-python",
   "name": "python",
   "nbconvert_exporter": "python",
   "pygments_lexer": "ipython3",
   "version": "3.6.0"
  }
 },
 "nbformat": 4,
 "nbformat_minor": 2
}
